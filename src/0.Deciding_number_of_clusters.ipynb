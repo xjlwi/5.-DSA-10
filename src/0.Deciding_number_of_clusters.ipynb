{
  "cells": [
    {
      "cell_type": "markdown",
      "metadata": {
        "id": "fBJfMbfaynb1"
      },
      "source": [
        "# Resources"
      ]
    },
    {
      "cell_type": "markdown",
      "metadata": {
        "id": "j0EPk7emyqgn"
      },
      "source": [
        "- [Blog post](https://medium.com/@AmyGrabNGoInfo/5-ways-for-deciding-number-of-clusters-in-a-clustering-model-5db993ea5e09) for this tutorial\n",
        "- Video version of the tutorial on [YouTube](https://www.youtube.com/watch?v=DDrSPPwvGtQ&list=PLVppujud2yJoLN1xHi8pBkrA-BPkWvUMr&index=4)\n",
        "- More video tutorials on [unsupervised model](https://www.youtube.com/playlist?list=PLVppujud2yJoLN1xHi8pBkrA-BPkWvUMr)\n",
        "- More blog posts on [unsupervised model](https://medium.com/@AmyGrabNGoInfo/list/unsupervised-model-1b518a1f1176)\n",
        "\n",
        "For more information about data science and machine learning, please check out my [YouTube channel](https://www.youtube.com/channel/UCmbA7XB6Wb7bLwJw9ARPcYg), [Medium Page](https://medium.com/@AmyGrabNGoInfo) and [GrabNGoInfo.com](https://grabngoinfo.com/tutorials/)."
      ]
    },
    {
      "cell_type": "markdown",
      "metadata": {
        "id": "qb_QiwJgykC2"
      },
      "source": [
        "# Intro"
      ]
    },
    {
      "cell_type": "markdown",
      "metadata": {
        "id": "mQbCvOM55LYk"
      },
      "source": [
        "Welcome to GrabNGoInfo! Deciding the optimal number of clusters is a critical step in building an unsupervised clustering model. In this tutorial, we will talk about five ways to decide the number of clusters for a clustering model in Python. You will learn:\n",
        "* How to use the elbow method on within cluster sum of squares to decide the number of clusters?\n",
        "* How to use the Silhouette score to decide the number of clusters?\n",
        "* How to use the hierarchical graph to find the optimal number of clusters visually?\n",
        "* How to use AIC and BIC for choosing the number of clusters?\n",
        "* How to use gap statistics to decide the number of clusters?\n",
        "\n",
        "Let's get started!"
      ]
    },
    {
      "cell_type": "markdown",
      "metadata": {
        "id": "uYF8TspZ4DGL"
      },
      "source": [
        "# Step 1: Import Libraries"
      ]
    },
    {
      "cell_type": "markdown",
      "metadata": {
        "id": "ZdBawDKA7za_"
      },
      "source": [
        "In the first step, we will import the Python libraries.\n",
        "* `pandas` and `numpy` are for data processing.\n",
        "* `matplotlib` and `seaborn` are for visualization.\n",
        "* `datasets` from the `sklearn` library contains some toy datasets. We will use the iris dataset to illustrate the different ways of deciding the number of clusters.\n",
        "* `PCA` is for dimensionality reduction.\n",
        "* `KMeans`, `hierachy`, and `GaussianMixture` are three widely used clustering models.\n",
        "* `silhouette_score` is a metric to evaluate clustering model performance."
      ]
    },
    {
      "cell_type": "code",
      "execution_count": null,
      "metadata": {
        "id": "rNulzelek7LU"
      },
      "outputs": [],
      "source": [
        "# Data processing \n",
        "import pandas as pd\n",
        "import numpy as np\n",
        "\n",
        "# Visualization\n",
        "import matplotlib.pyplot as plt\n",
        "import seaborn as sns\n",
        "\n",
        "# Dataset\n",
        "from sklearn import datasets\n",
        "\n",
        "# Dimensionality reduction\n",
        "from sklearn.decomposition import PCA\n",
        "\n",
        "# Modeling\n",
        "from sklearn.cluster import KMeans\n",
        "import scipy.cluster.hierarchy as hier\n",
        "from sklearn.mixture import GaussianMixture\n",
        "\n",
        "# Number of clusters\n",
        "from sklearn.metrics import silhouette_score"
      ]
    },
    {
      "cell_type": "markdown",
      "metadata": {
        "id": "ofnv7XsqpUUS"
      },
      "source": [
        "# Step 2: Read Data"
      ]
    },
    {
      "cell_type": "markdown",
      "metadata": {
        "id": "CI06XkEoN5gI"
      },
      "source": [
        "Step 2 reads the data. we first load the data using `load_iris()`, which is in a Python dictionary format. The keys of the dictionary show that the iris dataset includes the data, target, frame, target names, description of the dataset, feature names, filename, and data module."
      ]
    },
    {
      "cell_type": "code",
      "execution_count": null,
      "metadata": {
        "colab": {
          "base_uri": "https://localhost:8080/"
        },
        "id": "BpAaZxUqlYxh",
        "outputId": "6c326dc3-9aee-497e-ce3a-2c7fad0151f6"
      },
      "outputs": [
        {
          "data": {
            "text/plain": [
              "dict_keys(['data', 'target', 'frame', 'target_names', 'DESCR', 'feature_names', 'filename', 'data_module'])"
            ]
          },
          "execution_count": 2,
          "metadata": {},
          "output_type": "execute_result"
        }
      ],
      "source": [
        "# Load data\n",
        "iris = datasets.load_iris()\n",
        "\n",
        "# Show data information\n",
        "iris.keys()"
      ]
    },
    {
      "cell_type": "markdown",
      "metadata": {
        "id": "e_ETwHW9O2nX"
      },
      "source": [
        "Next, let's print out the `feature_names`, `target_names`, and `target`. We can see that there are four features, Sepal length, sepal width, petal length, and petal width. The target contains the names of three different flowers, setosa, versicolor, and virginica, which are encoded into three numbers, 0, 1, and 2."
      ]
    },
    {
      "cell_type": "code",
      "execution_count": null,
      "metadata": {
        "colab": {
          "base_uri": "https://localhost:8080/"
        },
        "id": "0NizA9eVnA3Y",
        "outputId": "61196b87-3943-4b16-9c5e-925c13e37f75"
      },
      "outputs": [
        {
          "name": "stdout",
          "output_type": "stream",
          "text": [
            "The feature names are: ['sepal length (cm)', 'sepal width (cm)', 'petal length (cm)', 'petal width (cm)']\n",
            "The target names are: ['setosa' 'versicolor' 'virginica']\n",
            "The target values are: [0 0 0 0 0 0 0 0 0 0 0 0 0 0 0 0 0 0 0 0 0 0 0 0 0 0 0 0 0 0 0 0 0 0 0 0 0\n",
            " 0 0 0 0 0 0 0 0 0 0 0 0 0 1 1 1 1 1 1 1 1 1 1 1 1 1 1 1 1 1 1 1 1 1 1 1 1\n",
            " 1 1 1 1 1 1 1 1 1 1 1 1 1 1 1 1 1 1 1 1 1 1 1 1 1 1 2 2 2 2 2 2 2 2 2 2 2\n",
            " 2 2 2 2 2 2 2 2 2 2 2 2 2 2 2 2 2 2 2 2 2 2 2 2 2 2 2 2 2 2 2 2 2 2 2 2 2\n",
            " 2 2]\n"
          ]
        }
      ],
      "source": [
        "# Print feature and target information\n",
        "print('The feature names are:', iris['feature_names'])\n",
        "print('The target names are:', iris['target_names'])\n",
        "print('The target values are:', iris['target'])"
      ]
    },
    {
      "cell_type": "markdown",
      "metadata": {
        "id": "WuvXnTETQj32"
      },
      "source": [
        "In order to use the data for the clustering model, we need to convert the data into a dataframe format. Using `.info()`, we can see that the dataset has 150 records, and there are no missing values."
      ]
    },
    {
      "cell_type": "code",
      "execution_count": null,
      "metadata": {
        "colab": {
          "base_uri": "https://localhost:8080/"
        },
        "id": "qZSI32PTpc-g",
        "outputId": "cbdfc874-ac32-459c-97e1-9aacbd6b0bc2"
      },
      "outputs": [
        {
          "name": "stdout",
          "output_type": "stream",
          "text": [
            "<class 'pandas.core.frame.DataFrame'>\n",
            "RangeIndex: 150 entries, 0 to 149\n",
            "Data columns (total 5 columns):\n",
            " #   Column             Non-Null Count  Dtype  \n",
            "---  ------             --------------  -----  \n",
            " 0   sepal length (cm)  150 non-null    float64\n",
            " 1   sepal width (cm)   150 non-null    float64\n",
            " 2   petal length (cm)  150 non-null    float64\n",
            " 3   petal width (cm)   150 non-null    float64\n",
            " 4   target             150 non-null    int64  \n",
            "dtypes: float64(4), int64(1)\n",
            "memory usage: 6.0 KB\n"
          ]
        }
      ],
      "source": [
        "# Put features data into a dataframe\n",
        "df = pd.DataFrame(data=iris.data, columns=iris.feature_names)\n",
        "\n",
        "# Add target to the dataframe \n",
        "df['target'] = iris.target\n",
        "\n",
        "# Data information\n",
        "df.info()"
      ]
    },
    {
      "cell_type": "markdown",
      "metadata": {
        "id": "vBvLmDWPREtn"
      },
      "source": [
        "Using `value_counts()`, we can see that there are 50 records for each type of flower."
      ]
    },
    {
      "cell_type": "code",
      "execution_count": null,
      "metadata": {
        "colab": {
          "base_uri": "https://localhost:8080/"
        },
        "id": "7E8LePLUpRcy",
        "outputId": "2da76f95-8af2-4f3b-d678-e2d545cbb212"
      },
      "outputs": [
        {
          "data": {
            "text/plain": [
              "0    50\n",
              "1    50\n",
              "2    50\n",
              "Name: target, dtype: int64"
            ]
          },
          "execution_count": 5,
          "metadata": {},
          "output_type": "execute_result"
        }
      ],
      "source": [
        "# Check counts of each category\n",
        "df['target'].value_counts()"
      ]
    },
    {
      "cell_type": "markdown",
      "metadata": {
        "id": "jGQXFyrIRUWV"
      },
      "source": [
        "Clustering model is a type of unsupervised model, so we will not use the target information for the model. Only the four features will be utilized in the model and the goal is to group the same type of flowers together, therefore, a new dataframe called X is created, which includes only the four features."
      ]
    },
    {
      "cell_type": "code",
      "execution_count": null,
      "metadata": {
        "id": "zhfT1kFkpmHn"
      },
      "outputs": [],
      "source": [
        "# Remove target for the clustering model\n",
        "X = df[df.columns.difference(['target'])]"
      ]
    },
    {
      "cell_type": "markdown",
      "metadata": {
        "id": "DzBv2TJa_mU2"
      },
      "source": [
        "# Step 3: Dimensionality Reduction and Visualization"
      ]
    },
    {
      "cell_type": "markdown",
      "metadata": {
        "id": "8LLuhnLKRsQ7"
      },
      "source": [
        "In step 3, we will visualize the data to understand the ground truth clusters. \n",
        "\n",
        "Since there are four features, we need to use a dimensionality reduction technique to convert the features from a 4-dimensional space to a 2-dimensional space for visualization.\n",
        "\n",
        "Principle Component Analysis (PCA) is applied and the three types of flowers are visualized in the scatter plot. We can see that among the three types of flowers, one type is quite different from the other two flowers, but the other two flowers are quite similar to each other."
      ]
    },
    {
      "cell_type": "code",
      "execution_count": null,
      "metadata": {
        "colab": {
          "base_uri": "https://localhost:8080/",
          "height": 523
        },
        "id": "UBB7csHw_sMo",
        "outputId": "8cf8a7cf-fcde-4a45-c183-d10c7aec7cef"
      },
      "outputs": [
        {
          "data": {
            "text/plain": [
              "<matplotlib.axes._subplots.AxesSubplot at 0x7f960cf876d0>"
            ]
          },
          "execution_count": 7,
          "metadata": {},
          "output_type": "execute_result"
        },
        {
          "data": {
            "image/png": "[encoded data removed]",
            "text/plain": [
              "<Figure size 864x576 with 1 Axes>"
            ]
          },
          "metadata": {},
          "output_type": "display_data"
        }
      ],
      "source": [
        "# Fit PCA with 2 components\n",
        "pca = PCA(n_components=2).fit_transform(X)\n",
        "\n",
        "# Add the two components as columns in the dataframe\n",
        "df['PCA1'] = pca[:, 0]\n",
        "df['PCA2'] = pca[:, 1]\n",
        "\n",
        "# Visualize the data\n",
        "sns.set(rc={'figure.figsize':(12,8)})\n",
        "sns.scatterplot(data=df, x=\"PCA1\", y=\"PCA2\", hue=\"target\")"
      ]
    },
    {
      "cell_type": "markdown",
      "metadata": {
        "id": "zZeT8gfFUrxg"
      },
      "source": [
        "We know the ground truth for the number of clusters is three, but two can be a reasonable number as well because of the similarity of the two types of flowers.\n",
        "\n",
        "Note that in a real-world project, there is usually no ground truth label available for the clustering model. We pick a dataset with labels for this tutorial mainly to evaluate different ways of deciding the number of clusters."
      ]
    },
    {
      "cell_type": "markdown",
      "metadata": {
        "id": "KuzMe49Sqfs5"
      },
      "source": [
        "# Step 4: Deciding Number of Clusters Using Elbow Method (Method 1)"
      ]
    },
    {
      "cell_type": "markdown",
      "metadata": {
        "id": "ic9cAZ0dqxK4"
      },
      "source": [
        "In step 4, we will show how to use an elbow method to decide the number of optimal clusters.\n",
        "\n",
        "The elbow method is the most widely used method for choosing the number of clusters. It runs clustering models for a range of cluster numbers and plots the within cluster sum of squares. The elbow on the plot shows the point where the diminishing returns for additional clusters happen."
      ]
    },
    {
      "cell_type": "code",
      "execution_count": null,
      "metadata": {
        "colab": {
          "base_uri": "https://localhost:8080/"
        },
        "id": "FExO-DVGqUUF",
        "outputId": "12ee313a-5fc0-43e5-9d31-427fe74f19bf"
      },
      "outputs": [
        {
          "name": "stdout",
          "output_type": "stream",
          "text": [
            "The within cluster sum of squares for 1 clusters is 681.37\n",
            "The within cluster sum of squares for 2 clusters is 152.35\n",
            "The within cluster sum of squares for 3 clusters is 78.85\n",
            "The within cluster sum of squares for 4 clusters is 57.23\n",
            "The within cluster sum of squares for 5 clusters is 46.47\n",
            "The within cluster sum of squares for 6 clusters is 39.04\n",
            "The within cluster sum of squares for 7 clusters is 34.30\n",
            "The within cluster sum of squares for 8 clusters is 30.06\n",
            "The within cluster sum of squares for 9 clusters is 28.27\n",
            "The within cluster sum of squares for 10 clusters is 26.09\n"
          ]
        }
      ],
      "source": [
        "# Create an empty dictionary to save the within cluster sum of square values\n",
        "wcss = {} \n",
        "# Look through the number of clusters\n",
        "for i in range(1,11):\n",
        "  # Run kmeans model\n",
        "  kmeans = KMeans(n_clusters=i, random_state=0).fit(X)\n",
        "  #Sum of squared distances of samples to their closest cluster center.\n",
        "  wcss[i] = (kmeans.inertia_)\n",
        "  # Print the within cluster sum of squares for each cluster number\n",
        "  print(f'The within cluster sum of squares for {i} clusters is {wcss[i]:.2f}') "
      ]
    },
    {
      "cell_type": "markdown",
      "metadata": {
        "id": "Q2c-pFE2hAET"
      },
      "source": [
        "From the visualization, we can see that the biggest decrease in within cluster sum of squares happens at 2 clusters, and there is a relatively large decrease from 2 to 3 clusters. The decreases are small for the models with the number of clusters greater than 3. Therefore, we can conclude that the optimal number of clusters is probably 2 or 3."
      ]
    },
    {
      "cell_type": "code",
      "execution_count": null,
      "metadata": {
        "colab": {
          "base_uri": "https://localhost:8080/",
          "height": 518
        },
        "id": "wA6liYy7rInR",
        "outputId": "387649b0-dcb1-43f6-b39d-dd046ae81920"
      },
      "outputs": [
        {
          "data": {
            "image/png": "[encoded data removed]",
            "text/plain": [
              "<Figure size 864x576 with 1 Axes>"
            ]
          },
          "metadata": {},
          "output_type": "display_data"
        }
      ],
      "source": [
        "# Visualization\n",
        "plt.figure(figsize=(12,8))\n",
        "plt.plot(list(wcss.keys()),list(wcss.values()))\n",
        "plt.title('Elbow Method')\n",
        "plt.xlabel('Number of Clusters')\n",
        "plt.ylabel('Within Cluster Sum Of Squares')\n",
        "plt.show()"
      ]
    },
    {
      "cell_type": "markdown",
      "metadata": {
        "id": "rofdVMoMrRR0"
      },
      "source": [
        "# Step 5: Deciding Number of Clusters Using Silhouette Score (Method 2)"
      ]
    },
    {
      "cell_type": "markdown",
      "metadata": {
        "id": "NKUyysakrgAK"
      },
      "source": [
        "In step 5, we will talk about how to use the Silhouette score to decide the number of clusters.\n",
        "\n",
        "The silhouette score measures how similar a data point is to its own cluster compared to the closest neighbor cluster. The silhouette ranges from −1 to +1. \n",
        "* The best value is 1, and a value close to 1 means that the sample's distance to the nearest neighbor cluster is much larger than the intra-cluster distance.\n",
        "* 0 indicate overlapping clusters[2].\n",
        "* The worst value is -1, and a value close to -1 means that the sample is assigned to the wrong cluster[2].\n",
        "\n",
        "Note that Silhouette Coefficient is only defined if the number of clusters is at least 2 and at most the number of samples minus 1. \n",
        "\n",
        "The Silhouette score of the model is the average Silhouette value of all samples."
      ]
    },
    {
      "cell_type": "code",
      "execution_count": null,
      "metadata": {
        "colab": {
          "base_uri": "https://localhost:8080/"
        },
        "id": "pF-cNEf4rN0W",
        "outputId": "1d385370-a5c8-43a3-aac1-2b8b20d4df13"
      },
      "outputs": [
        {
          "name": "stdout",
          "output_type": "stream",
          "text": [
            "The silhouette score for 2 clusters is 0.681\n",
            "The silhouette score for 3 clusters is 0.553\n",
            "The silhouette score for 4 clusters is 0.498\n",
            "The silhouette score for 5 clusters is 0.493\n",
            "The silhouette score for 6 clusters is 0.365\n",
            "The silhouette score for 7 clusters is 0.357\n",
            "The silhouette score for 8 clusters is 0.362\n",
            "The silhouette score for 9 clusters is 0.349\n",
            "The silhouette score for 10 clusters is 0.331\n"
          ]
        }
      ],
      "source": [
        "# Create an empty dictionary for the Silhouette score\n",
        "s_score = {} \n",
        "# Loop through the number of clusters\n",
        "for i in range(2,11): # Note that the minimum number of clusters is 2\n",
        "  # Fit kmeans clustering model for each cluster number\n",
        "  kmeans = KMeans(n_clusters=i, random_state=0).fit(X)\n",
        "  # Make prediction\n",
        "  classes = kmeans.predict(X)\n",
        "  # Calculate Silhouette score\n",
        "  s_score[i] = (silhouette_score(X, classes)) \n",
        "  # Print the Silhouette score for each cluster number\n",
        "  print(f'The silhouette score for {i} clusters is {s_score[i]:.3f}') "
      ]
    },
    {
      "cell_type": "markdown",
      "metadata": {
        "id": "BcuB4YwUqBJl"
      },
      "source": [
        "From the visualization, we can see that the model with 2 clusters has the highest value of Silhouette score, and the model with 3 clusters has the 2nd highest value, so we get the consistent result that there are 2 or 3 clusters."
      ]
    },
    {
      "cell_type": "code",
      "execution_count": null,
      "metadata": {
        "colab": {
          "base_uri": "https://localhost:8080/",
          "height": 513
        },
        "id": "C5dV8l7nrk98",
        "outputId": "365db658-257d-413e-b8b2-a1ee0cc3acd2"
      },
      "outputs": [
        {
          "data": {
            "image/png": "[encoded data removed]",
            "text/plain": [
              "<Figure size 864x576 with 1 Axes>"
            ]
          },
          "metadata": {
            "needs_background": "light"
          },
          "output_type": "display_data"
        }
      ],
      "source": [
        "# Visualization\n",
        "plt.figure(figsize=(12,8))\n",
        "plt.plot(list(s_score.keys()),list(s_score.values()))\n",
        "plt.title('Silhouette Score')\n",
        "plt.xlabel('Number of Clusters')\n",
        "plt.ylabel('Silhouette Value')\n",
        "plt.show()"
      ]
    },
    {
      "cell_type": "markdown",
      "metadata": {
        "id": "TvIfT5PFr0rr"
      },
      "source": [
        "# Step 6: Deciding Number of Clusters Using Hierarchical Graph (Method 3)"
      ]
    },
    {
      "cell_type": "markdown",
      "metadata": {
        "id": "pgY3C8OVq0lk"
      },
      "source": [
        "In step 6, we will use the hierarchical graph to find the number of clusters.\n",
        "\n",
        "The y axis is the euclidean distance, so the longer the vertical line is, the larger distance between the clusters.\n",
        "\n",
        "From the graph, we can see that the two clusters connected by the blue line have the largest distance, and the two sub-clusters in red have a relatively large distance too. Therefore, the hierarchical graph suggests 2 or 3 clusters as well."
      ]
    },
    {
      "cell_type": "code",
      "execution_count": null,
      "metadata": {
        "colab": {
          "base_uri": "https://localhost:8080/",
          "height": 753
        },
        "id": "ec5JLRnRrptI",
        "outputId": "70ebffda-5a85-4a43-c118-3df028441257"
      },
      "outputs": [
        {
          "data": {
            "text/plain": [
              "Text(0, 0.5, 'Euclidean Distance')"
            ]
          },
          "execution_count": 11,
          "metadata": {},
          "output_type": "execute_result"
        },
        {
          "data": {
            "image/png": "[encoded data removed]",
            "text/plain": [
              "<Figure size 1152x864 with 1 Axes>"
            ]
          },
          "metadata": {},
          "output_type": "display_data"
        }
      ],
      "source": [
        "# Change figure size\n",
        "plt.figure(figsize=(16,12))\n",
        "\n",
        "# Fit the heirachical graph\n",
        "heirachical_graph=hier.dendrogram(hier.linkage(X, method='ward')) #method='ward' uses the Ward variance minimization algorithm\n",
        "\n",
        "# Add titles and labels\n",
        "plt.title('Hierachical Clustering Graph')\n",
        "plt.xlabel('Flowers')\n",
        "plt.ylabel('Euclidean Distance')"
      ]
    },
    {
      "cell_type": "markdown",
      "metadata": {
        "id": "zxNuKVzXs-WS"
      },
      "source": [
        "# Step 7: Deciding Number of Clusters Using AIC and BIC from GMM (Method 4)"
      ]
    },
    {
      "cell_type": "markdown",
      "metadata": {
        "id": "A-R6yyU1veqK"
      },
      "source": [
        "In step 7, we will talk about how to decide the number of clusters using AIC and BIC values.\n",
        "\n",
        "Both AIC (Akaike Information Criterion) and BIC (Bayesian Information Criterion) are metrics that measure the relative prediction errors of different models. The lower the value is, the better the model is.\n",
        "\n",
        "The Gaussian Mixture Model AIC and BIC scores can help us decide the optimal number of clusters."
      ]
    },
    {
      "cell_type": "code",
      "execution_count": null,
      "metadata": {
        "colab": {
          "base_uri": "https://localhost:8080/",
          "height": 513
        },
        "id": "eH0MBJyWuWyX",
        "outputId": "2d7de39e-9210-4887-873a-783054d582db"
      },
      "outputs": [
        {
          "data": {
            "image/png": "[encoded data removed]",
            "text/plain": [
              "<Figure size 864x576 with 1 Axes>"
            ]
          },
          "metadata": {
            "needs_background": "light"
          },
          "output_type": "display_data"
        }
      ],
      "source": [
        "# Create empty dictionary for AIC and BIC values\n",
        "aic_score = {} \n",
        "bic_score = {}\n",
        "\n",
        "# Loop through different number of clusters\n",
        "for i in range(1,11): \n",
        "  # Create Gaussian Mixture Model\n",
        "  gmm = GaussianMixture(n_components=i, random_state=0).fit(X)\n",
        "  # Get AIC score for the model\n",
        "  aic_score[i] = gmm.aic(X)\n",
        "  # Get BIC score for the model\n",
        "  bic_score[i] = gmm.bic(X)\n",
        "\n",
        "# Visualization\n",
        "plt.figure(figsize=(12,8))\n",
        "plt.plot(list(aic_score.keys()),list(aic_score.values()), label='AIC')\n",
        "plt.plot(list(bic_score.keys()),list(bic_score.values()), label='BIC')\n",
        "plt.legend(loc='best')\n",
        "plt.title('AIC and BIC from GMM')\n",
        "plt.xlabel('Number of Clusters')\n",
        "plt.ylabel('AIC and BIC values')\n",
        "plt.show()"
      ]
    },
    {
      "cell_type": "markdown",
      "metadata": {
        "id": "VVnFH2u6E5F_"
      },
      "source": [
        "From the visualization, we can see that AIC has the smallest value at 3 clusters. Although the AIC value for 10 clusters is smaller, the difference between 3 clusters and 10 clusters is quite small. In this case, we will choose a simpler model with 3 clusters.\n",
        "\n",
        "BIC has the smallest value at the 2-cluster model, and the 3-cluster model has a similar value, suggesting that the optimal number of clusters is 2 or 3."
      ]
    },
    {
      "cell_type": "markdown",
      "metadata": {
        "id": "tygOoTvdx_S9"
      },
      "source": [
        "# Step 8: Deciding Number of Clusters Using Gap Statistics (Method 5)"
      ]
    },
    {
      "cell_type": "markdown",
      "metadata": {
        "id": "pqDxnzqqGZ5_"
      },
      "source": [
        "In step 8, we will talk about how to decide the optimal number of clusters using gap statistics. Gap statistics compares the change in within-cluster dispersion with the uniform distribution[3]. A large gap statistics value means that the clustering is very different from the uniform distribution.\n",
        "\n",
        "Anaconda.org has a notebook with the implementation of gap statistics[1]. The code in the gap statistics section are all borrowed from the [notebook](https://anaconda.org/milesgranger/gap-statistic/notebook). "
      ]
    },
    {
      "cell_type": "code",
      "execution_count": null,
      "metadata": {
        "id": "6Xb-Tibhwr69"
      },
      "outputs": [],
      "source": [
        "def optimalK(data, nrefs=3, maxClusters=15):\n",
        "    \"\"\"\n",
        "    Calculates KMeans optimal K using Gap Statistic from Tibshirani, Walther, Hastie\n",
        "    Params:\n",
        "        data: ndarry of shape (n_samples, n_features)\n",
        "        nrefs: number of sample reference datasets to create\n",
        "        maxClusters: Maximum number of clusters to test for\n",
        "    Returns: (gaps, optimalK)\n",
        "    \"\"\"\n",
        "    gaps = np.zeros((len(range(1, maxClusters)),))\n",
        "    resultsdf = pd.DataFrame({'clusterCount':[], 'gap':[]})\n",
        "    for gap_index, k in enumerate(range(1, maxClusters)):\n",
        "\n",
        "        # Holder for reference dispersion results\n",
        "        refDisps = np.zeros(nrefs)\n",
        "\n",
        "        # For n references, generate random sample and perform kmeans getting resulting dispersion of each loop\n",
        "        for i in range(nrefs):\n",
        "            \n",
        "            # Create new random reference set\n",
        "            randomReference = np.random.random_sample(size=data.shape)\n",
        "            \n",
        "            # Fit to it\n",
        "            km = KMeans(k)\n",
        "            km.fit(randomReference)\n",
        "            \n",
        "            refDisp = km.inertia_\n",
        "            refDisps[i] = refDisp\n",
        "\n",
        "        # Fit cluster to original data and create dispersion\n",
        "        km = KMeans(k)\n",
        "        km.fit(data)\n",
        "        \n",
        "        origDisp = km.inertia_\n",
        "\n",
        "        # Calculate gap statistic\n",
        "        gap = np.log(np.mean(refDisps)) - np.log(origDisp)\n",
        "\n",
        "        # Assign this loop's gap statistic to gaps\n",
        "        gaps[gap_index] = gap\n",
        "        \n",
        "        resultsdf = resultsdf.append({'clusterCount':k, 'gap':gap}, ignore_index=True)\n",
        "\n",
        "    return (gaps.argmax() + 1, resultsdf)  # Plus 1 because index of 0 means 1 cluster is optimal, index 2 = 3 clusters are optimal"
      ]
    },
    {
      "cell_type": "markdown",
      "metadata": {
        "id": "fNxmi8HVNj6c"
      },
      "source": [
        "The function output the optimal number of cluster based on the number of clusters with the largest gap value, but we can see from the visualization that after 3 clusters, the graph is relatively flat, showing a diminishing gap increase. Therefore, the optimal number of clusters is 3 if we use the elbow method."
      ]
    },
    {
      "cell_type": "code",
      "execution_count": null,
      "metadata": {
        "colab": {
          "base_uri": "https://localhost:8080/"
        },
        "id": "xURR6KZg1pX3",
        "outputId": "2913615a-5afb-4fc9-8b8a-afe56f31efdb"
      },
      "outputs": [
        {
          "name": "stdout",
          "output_type": "stream",
          "text": [
            "Optimal k is:  8\n"
          ]
        }
      ],
      "source": [
        "# Automatically output the number of clusters\n",
        "k, gapdf = optimalK(X, nrefs=3, maxClusters=11)\n",
        "print('Optimal k is: ', k)"
      ]
    },
    {
      "cell_type": "code",
      "execution_count": null,
      "metadata": {
        "colab": {
          "base_uri": "https://localhost:8080/",
          "height": 295
        },
        "id": "b2j5K-zw14Fg",
        "outputId": "8dc54c9f-716c-457c-c108-4543a3d5fbd4"
      },
      "outputs": [
        {
          "data": {
            "image/png": "[encoded data removed]",
            "text/plain": [
              "<Figure size 432x288 with 1 Axes>"
            ]
          },
          "metadata": {
            "needs_background": "light"
          },
          "output_type": "display_data"
        }
      ],
      "source": [
        "# Visualization\n",
        "plt.plot(gapdf.clusterCount, gapdf.gap, linewidth=3)\n",
        "plt.scatter(gapdf[gapdf.clusterCount == k].clusterCount, gapdf[gapdf.clusterCount == k].gap, s=250, c='r')\n",
        "plt.grid(True)\n",
        "plt.xlabel('Cluster Count')\n",
        "plt.ylabel('Gap Value')\n",
        "plt.title('Gap Values by Cluster Count')\n",
        "plt.show()"
      ]
    },
    {
      "cell_type": "markdown",
      "metadata": {
        "id": "SncdgBjVQ8Df"
      },
      "source": [
        "# Step 9: Which method to use for the optimal number of clusters?"
      ]
    },
    {
      "cell_type": "markdown",
      "metadata": {
        "id": "aAHTAhByRR_6"
      },
      "source": [
        "Now we have learned the 5 different ways of choosing the number of clusters, you might wonder how to choose a method for your project. Here is a general guideline:\n",
        "\n",
        "* Start with the elbow method for the within cluster sum of squares and see if there is a clear elbow.\n",
        "* If the elbow is not very clear, use the hierarchical graph to help decide the optimal number.\n",
        "* If the optimal number of clusters is still not obvious after using the elbow method and hierarchical graph, use all five methods and choose the optimal number of clusters the majority of methods suggest."
      ]
    },
    {
      "cell_type": "markdown",
      "metadata": {
        "id": "9ZThIA_nQuX_"
      },
      "source": [
        "# Put All Code Together"
      ]
    },
    {
      "cell_type": "code",
      "execution_count": null,
      "metadata": {
        "id": "T0Yqq1a-vslT"
      },
      "outputs": [],
      "source": [
        "#-----------------------------------------------\n",
        "# Step 1: Import Libraries\n",
        "#-----------------------------------------------\n",
        "\n",
        "# Data processing \n",
        "import pandas as pd\n",
        "import numpy as np\n",
        "\n",
        "# Visualization\n",
        "import matplotlib.pyplot as plt\n",
        "import seaborn as sns\n",
        "\n",
        "# Dataset\n",
        "from sklearn import datasets\n",
        "\n",
        "# Dimensionality reduction\n",
        "from sklearn.decomposition import PCA\n",
        "\n",
        "# Modeling\n",
        "from sklearn.cluster import KMeans\n",
        "import scipy.cluster.hierarchy as hier\n",
        "from sklearn.mixture import GaussianMixture\n",
        "\n",
        "# Number of clusters\n",
        "from sklearn.metrics import silhouette_score\n",
        "\n",
        "#-----------------------------------------------\n",
        "# Step 2: Read Data\n",
        "#-----------------------------------------------\n",
        "\n",
        "# Load data\n",
        "iris = datasets.load_iris()\n",
        "\n",
        "# Show data information\n",
        "iris.keys()\n",
        "\n",
        "# Print feature and target information\n",
        "print('The feature names are:', iris['feature_names'])\n",
        "print('The target names are:', iris['target_names'])\n",
        "print('The target values are:', iris['target'])\n",
        "\n",
        "# Put features data into a dataframe\n",
        "df = pd.DataFrame(data=iris.data, columns=iris.feature_names)\n",
        "\n",
        "# Add target to the dataframe \n",
        "df['target'] = iris.target\n",
        "\n",
        "# Data information\n",
        "df.info()\n",
        "\n",
        "# Check counts of each category\n",
        "df['target'].value_counts()\n",
        "\n",
        "# Remove target for the clustering model\n",
        "X = df[df.columns.difference(['target'])]\n",
        "\n",
        "#-----------------------------------------------\n",
        "# Step 3: Dimensionality Reduction and Visualization\n",
        "#-----------------------------------------------\n",
        "\n",
        "# Fit PCA with 2 components\n",
        "pca = PCA(n_components=2).fit_transform(X)\n",
        "\n",
        "# Add the two components as columns in the dataframe\n",
        "df['PCA1'] = pca[:, 0]\n",
        "df['PCA2'] = pca[:, 1]\n",
        "\n",
        "# Visualize the data\n",
        "sns.set(rc={'figure.figsize':(12,8)})\n",
        "sns.scatterplot(data=df, x=\"PCA1\", y=\"PCA2\", hue=\"target\")\n",
        "\n",
        "#-----------------------------------------------\n",
        "# Step 4: Step 4: Deciding Number of Clusters Using Elbow Method (Method 1)\n",
        "#-----------------------------------------------\n",
        "\n",
        "# Create an empty dictionary to save the within cluster sum of square values\n",
        "wcss = {} \n",
        "# Look through the number of clusters\n",
        "for i in range(1,11):\n",
        "  # Run kmeans model\n",
        "  kmeans = KMeans(n_clusters=i, random_state=0).fit(X)\n",
        "  #Sum of squared distances of samples to their closest cluster center.\n",
        "  wcss[i] = (kmeans.inertia_)\n",
        "  # Print the within cluster sum of squares for each cluster number\n",
        "  print(f'The within cluster sum of squares for {i} clusters is {wcss[i]:.2f}') \n",
        "\n",
        "# Visualization\n",
        "plt.figure(figsize=(12,8))\n",
        "plt.plot(list(wcss.keys()),list(wcss.values()))\n",
        "plt.title('Elbow Method')\n",
        "plt.xlabel('Number of Clusters')\n",
        "plt.ylabel('Within Cluster Sum Of Squares')\n",
        "plt.show()\n",
        "\n",
        "#-----------------------------------------------\n",
        "# Step 5: Deciding Number of Clusters Using Silhouette Score (Method 2)\n",
        "#-----------------------------------------------\n",
        "\n",
        "# Create an empty dictionary for the Silhouette score\n",
        "s_score = {} \n",
        "# Loop through the number of clusters\n",
        "for i in range(2,11): # Note that the minimum number of clusters is 2\n",
        "  # Fit kmeans clustering model for each cluster number\n",
        "  kmeans = KMeans(n_clusters=i, random_state=0).fit(X)\n",
        "  # Make prediction\n",
        "  classes = kmeans.predict(X)\n",
        "  # Calculate Silhouette score\n",
        "  s_score[i] = (silhouette_score(X, classes)) \n",
        "  # Print the Silhouette score for each cluster number\n",
        "  print(f'The silhouette score for {i} clusters is {s_score[i]:.3f}') \n",
        "\n",
        "# Visualization\n",
        "plt.figure(figsize=(12,8))\n",
        "plt.plot(list(s_score.keys()),list(s_score.values()))\n",
        "plt.title('Silhouette Score')\n",
        "plt.xlabel('Number of Clusters')\n",
        "plt.ylabel('Silhouette Value')\n",
        "plt.show()\n",
        "\n",
        "#-----------------------------------------------\n",
        "# Step 6: Deciding Number of Clusters Using Heirachical Graph (Method 3)\n",
        "#-----------------------------------------------\n",
        "\n",
        "# Change figure size\n",
        "plt.figure(figsize=(16,12))\n",
        "\n",
        "# Fit the heirachical graph\n",
        "heirachical_graph=hier.dendrogram(hier.linkage(X, method='ward')) #method='ward' uses the Ward variance minimization algorithm\n",
        "\n",
        "# Add titles and labels\n",
        "plt.title('Hierachical Clustering Graph')\n",
        "plt.xlabel('Flowers')\n",
        "plt.ylabel('Euclidean Distance')\n",
        "\n",
        "#-----------------------------------------------\n",
        "# Step 7: Deciding Number of Clusters Using AIC and BIC from GMM (Method 4)\n",
        "#-----------------------------------------------\n",
        "\n",
        "# Create empty dictionary for AIC and BIC values\n",
        "aic_score = {} \n",
        "bic_score = {}\n",
        "\n",
        "# Loop through different number of clusters\n",
        "for i in range(1,11): \n",
        "  # Create Gaussian Mixture Model\n",
        "  gmm = GaussianMixture(n_components=i, random_state=0).fit(X)\n",
        "  # Get AIC score for the model\n",
        "  aic_score[i] = gmm.aic(X)\n",
        "  # Get BIC score for the model\n",
        "  bic_score[i] = gmm.bic(X)\n",
        "\n",
        "# Visualization\n",
        "plt.figure(figsize=(12,8))\n",
        "plt.plot(list(aic_score.keys()),list(aic_score.values()), label='AIC')\n",
        "plt.plot(list(bic_score.keys()),list(bic_score.values()), label='BIC')\n",
        "plt.legend(loc='best')\n",
        "plt.title('AIC and BIC from GMM')\n",
        "plt.xlabel('Number of Clusters')\n",
        "plt.ylabel('AIC and BIC values')\n",
        "plt.show()\n",
        "\n",
        "#-----------------------------------------------\n",
        "# Step 8: Deciding Number of Clusters Using Gap Statistics (Method 5)\n",
        "#-----------------------------------------------\n",
        "\n",
        "def optimalK(data, nrefs=3, maxClusters=15):\n",
        "    \"\"\"\n",
        "    Calculates KMeans optimal K using Gap Statistic from Tibshirani, Walther, Hastie\n",
        "    Params:\n",
        "        data: ndarry of shape (n_samples, n_features)\n",
        "        nrefs: number of sample reference datasets to create\n",
        "        maxClusters: Maximum number of clusters to test for\n",
        "    Returns: (gaps, optimalK)\n",
        "    \"\"\"\n",
        "    gaps = np.zeros((len(range(1, maxClusters)),))\n",
        "    resultsdf = pd.DataFrame({'clusterCount':[], 'gap':[]})\n",
        "    for gap_index, k in enumerate(range(1, maxClusters)):\n",
        "\n",
        "        # Holder for reference dispersion results\n",
        "        refDisps = np.zeros(nrefs)\n",
        "\n",
        "        # For n references, generate random sample and perform kmeans getting resulting dispersion of each loop\n",
        "        for i in range(nrefs):\n",
        "            \n",
        "            # Create new random reference set\n",
        "            randomReference = np.random.random_sample(size=data.shape)\n",
        "            \n",
        "            # Fit to it\n",
        "            km = KMeans(k)\n",
        "            km.fit(randomReference)\n",
        "            \n",
        "            refDisp = km.inertia_\n",
        "            refDisps[i] = refDisp\n",
        "\n",
        "        # Fit cluster to original data and create dispersion\n",
        "        km = KMeans(k)\n",
        "        km.fit(data)\n",
        "        \n",
        "        origDisp = km.inertia_\n",
        "\n",
        "        # Calculate gap statistic\n",
        "        gap = np.log(np.mean(refDisps)) - np.log(origDisp)\n",
        "\n",
        "        # Assign this loop's gap statistic to gaps\n",
        "        gaps[gap_index] = gap\n",
        "        \n",
        "        resultsdf = resultsdf.append({'clusterCount':k, 'gap':gap}, ignore_index=True)\n",
        "\n",
        "    return (gaps.argmax() + 1, resultsdf)  # Plus 1 because index of 0 means 1 cluster is optimal, index 2 = 3 clusters are optimal\n",
        "\n",
        "# Automatically output the number of clusters\n",
        "k, gapdf = optimalK(X, nrefs=3, maxClusters=11)\n",
        "print('Optimal k is: ', k)\n",
        "\n",
        "# Visualization\n",
        "plt.plot(gapdf.clusterCount, gapdf.gap, linewidth=3)\n",
        "plt.scatter(gapdf[gapdf.clusterCount == k].clusterCount, gapdf[gapdf.clusterCount == k].gap, s=250, c='r')\n",
        "plt.grid(True)\n",
        "plt.xlabel('Cluster Count')\n",
        "plt.ylabel('Gap Value')\n",
        "plt.title('Gap Values by Cluster Count')\n",
        "plt.show()\n",
        "\n"
      ]
    },
    {
      "cell_type": "markdown",
      "metadata": {
        "id": "FsZIucESQz1c"
      },
      "source": [
        "# Summary"
      ]
    },
    {
      "cell_type": "markdown",
      "metadata": {
        "id": "OkeB53pUT87t"
      },
      "source": [
        "In this tutorial, we talked about five ways to decide the number of clusters for a clustering model in Python. You learned:\n",
        "* How to use the elbow method on within cluster sum of squares to decide the number of clusters?\n",
        "* How to use the Silhouette score to decide the number of clusters?\n",
        "* How to use the hierarchical graph to find the optimal number of clusters visually?\n",
        "* How to use AIC and BIC for choosing the number of clusters?\n",
        "* How to use gap statistics to decide the number of clusters?"
      ]
    },
    {
      "cell_type": "markdown",
      "metadata": {
        "id": "injl3_7UPBbj"
      },
      "source": [
        "# Recommended Tutorials"
      ]
    },
    {
      "cell_type": "markdown",
      "metadata": {
        "id": "hQ-5BA9OPETl"
      },
      "source": [
        "- [GrabNGoInfo Machine Learning Tutorials Inventory](https://medium.com/grabngoinfo/grabngoinfo-machine-learning-tutorials-inventory-9b9d78ebdd67)\n",
        "- [Hierarchical Topic Model for Airbnb Reviews](https://medium.com/p/hierarchical-topic-model-for-airbnb-reviews-f772eaa30434)\n",
        "- [3 Ways for Multiple Time Series Forecasting Using Prophet in Python](https://medium.com/p/3-ways-for-multiple-time-series-forecasting-using-prophet-in-python-7a0709a117f9)\n",
        "- [Time Series Anomaly Detection Using Prophet in Python](https://medium.com/grabngoinfo/time-series-anomaly-detection-using-prophet-in-python-877d2b7b14b4)\n",
        "- [Time Series Causal Impact Analysis in Python](https://medium.com/grabngoinfo/time-series-causal-impact-analysis-in-python-63eacb1df5cc)\n",
        "- [Hyperparameter Tuning For XGBoost](https://medium.com/p/hyperparameter-tuning-for-xgboost-91449869c57e)\n",
        "- [Four Oversampling And Under-Sampling Methods For Imbalanced Classification Using Python](https://medium.com/p/four-oversampling-and-under-sampling-methods-for-imbalanced-classification-using-python-7304aedf9037)\n",
        "- [Five Ways To Create Tables In Databricks](https://medium.com/grabngoinfo/five-ways-to-create-tables-in-databricks-cd3847cfc3aa)\n",
        "- [Explainable S-Learner Uplift Model Using Python Package CausalML](https://medium.com/grabngoinfo/explainable-s-learner-uplift-model-using-python-package-causalml-a3c2bed3497c)\n",
        "- [One-Class SVM For Anomaly Detection](https://medium.com/p/one-class-svm-for-anomaly-detection-6c97fdd6d8af)\n",
        "- [Recommendation System: Item-Based Collaborative Filtering](https://medium.com/grabngoinfo/recommendation-system-item-based-collaborative-filtering-f5078504996a)\n",
        "- [Hyperparameter Tuning for Time Series Causal Impact Analysis in Python](https://medium.com/grabngoinfo/hyperparameter-tuning-for-time-series-causal-impact-analysis-in-python-c8f7246c4d22)\n",
        "- [Hyperparameter Tuning and Regularization for Time Series Model Using Prophet in Python](https://medium.com/grabngoinfo/hyperparameter-tuning-and-regularization-for-time-series-model-using-prophet-in-python-9791370a07dc)\n",
        "- [Multivariate Time Series Forecasting with Seasonality and Holiday Effect Using Prophet in Python](https://medium.com/p/multivariate-time-series-forecasting-with-seasonality-and-holiday-effect-using-prophet-in-python-d5d4150eeb57)\n",
        "- [LASSO (L1) Vs Ridge (L2) Vs Elastic Net Regularization For Classification Model](https://medium.com/towards-artificial-intelligence/lasso-l1-vs-ridge-l2-vs-elastic-net-regularization-for-classification-model-409c3d86f6e9)\n",
        "- [S Learner Uplift Model for Individual Treatment Effect and Customer Segmentation in Python](https://medium.com/grabngoinfo/s-learner-uplift-model-for-individual-treatment-effect-and-customer-segmentation-in-python-9d410746e122)\n",
        "- [How to Use R with Google Colab Notebook](https://medium.com/p/how-to-use-r-with-google-colab-notebook-610c3a2f0eab)"
      ]
    },
    {
      "cell_type": "markdown",
      "metadata": {
        "id": "tsmnQrfS0MH8"
      },
      "source": [
        "# References"
      ]
    },
    {
      "cell_type": "markdown",
      "metadata": {
        "id": "gHF8BSQ70Pag"
      },
      "source": [
        "[1] [Python implementation of the Gap Statistic](https://anaconda.org/milesgranger/gap-statistic/notebook)\n",
        "\n",
        "[2] [sklearn silhouette score documentation](https://scikit-learn.org/stable/modules/generated/sklearn.metrics.silhouette_score.html#)\n",
        "\n",
        "[3] [Gap Statistics paper](https://hastie.su.domains/Papers/gap.pdf)"
      ]
    }
  ],
  "metadata": {
    "colab": {
      "provenance": []
    },
    "kernelspec": {
      "display_name": "venv",
      "language": "python",
      "name": "python3"
    },
    "language_info": {
      "name": "python",
      "version": "3.9.0 (tags/v3.9.0:9cf6752, Oct  5 2020, 15:34:40) [MSC v.1927 64 bit (AMD64)]"
    },
    "vscode": {
      "interpreter": {
        "hash": "34b6ff8fdf67aee58fe116336c3c4bcfde7a1d4e61896e945dd0afa6e11146f7"
      }
    }
  },
  "nbformat": 4,
  "nbformat_minor": 0
}
