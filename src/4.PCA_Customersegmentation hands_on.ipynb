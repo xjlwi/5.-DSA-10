{
 "cells": [
  {
   "cell_type": "markdown",
   "metadata": {
    "_cell_guid": "e42ebc38-a4c5-4b46-9428-580472762c68",
    "_uuid": "8b30c0db606799ef38190315c0246c5d4d3ce992"
   },
   "source": [
    "# Customer Segments"
   ]
  },
  {
   "cell_type": "markdown",
   "metadata": {
    "_cell_guid": "37e3d647-2362-4862-b487-5e13f6dcb088",
    "_uuid": "559cfcf6a17fcf2364de0883b0dec213218fa16f"
   },
   "source": [
    "In this notebook I will try to find a possible customer segmenetation enabling to classify customers according the their different purchases. I hope this information will be useful for the next prediction task. \n",
    "Since there are thousands of products in the dataset I will rely on aisles, which represent categories of products. Even with aisles features will be too much so I will use Principal Component Analysis to find new dimensions along which clustering will be easier. I will then try to find possible explanations for the identified clusters."
   ]
  },
  {
   "cell_type": "markdown",
   "metadata": {
    "_cell_guid": "abcaa3b6-be7a-4f76-a24c-15c0edc3e33f",
    "_uuid": "360c8ccf2e79617825648de15a9a40c0bc0ed2d9"
   },
   "source": [
    "## First Exploration"
   ]
  },
  {
   "cell_type": "code",
   "execution_count": null,
   "metadata": {
    "_cell_guid": "6817395f-75f0-48e3-b68a-89ba0c98d8b0",
    "_execution_state": "idle",
    "_uuid": "75c7b0e6d3755164b0ded68f3a8b06678a377c17",
    "collapsed": true
   },
   "outputs": [],
   "source": [
    "import numpy as np \n",
    "import pandas as pd \n",
    "\n",
    "from pathlib import Path\n",
    "\n",
    "# ignore warnings\n",
    "import warnings\n",
    "warnings.filterwarnings('ignore')\n",
    "\n",
    "# checks if data are correct. Note `source` is resued below. Ensure that data folders are placed similar locations. \n",
    "# You may edit the source path if you have not followed the following location.\n",
    "source = Path(\"../data/input/\")\n",
    "[x.name for x in source.iterdir()]"
   ]
  },
  {
   "cell_type": "code",
   "execution_count": null,
   "metadata": {
    "_cell_guid": "0b56a723-0435-48d4-b035-f08cdfe901f7",
    "_execution_state": "idle",
    "_uuid": "fee02fa30daf545226727f2dd9273a8c2e61330a",
    "collapsed": true
   },
   "outputs": [],
   "source": [
    "# Load Orders\n",
    "orders = pd.read_csv(f'{source}/orders.csv')\n",
    "orders.head()"
   ]
  },
  {
   "cell_type": "code",
   "execution_count": null,
   "metadata": {
    "_cell_guid": "ddda87c6-3ecc-48c6-bc3e-0acf35fea649",
    "_execution_state": "idle",
    "_uuid": "3dfe4793cde134eff77fb8e1fb5a0c21c10e3481",
    "collapsed": true
   },
   "outputs": [],
   "source": [
    "# load order products prior data\n",
    "prior = \n",
    "prior.head()"
   ]
  },
  {
   "cell_type": "code",
   "execution_count": null,
   "metadata": {
    "_cell_guid": "2151da7e-40ea-41dd-adca-1c69a22ad3d3",
    "_execution_state": "idle",
    "_uuid": "45b1faa4e5520d31421edcf70380e5a36db3826b",
    "collapsed": true
   },
   "outputs": [],
   "source": [
    "# Load order products train\n",
    "train = \n",
    "train.head()"
   ]
  },
  {
   "attachments": {},
   "cell_type": "markdown",
   "metadata": {
    "_cell_guid": "abf9a156-f3b1-4186-8b2d-e340fae24eec",
    "_uuid": "914f62949a7f9fafc6287ec876d0dea3fe91539a"
   },
   "source": [
    "This is my understanding of the dataset structure:\n",
    "* users are identified by user_id in the orders csv file. Each row of the orders csv fil represents an order made by a user. Order are identified by `order_id`\n",
    "\n",
    "* Each order of a user is characterized by an `order_number` which specifies when it has been made with respect to the others of the same user;\n",
    "\n",
    "* <text style=\"color:#FEC999\">each order consists of a set of product</text> each characterized by an `add_to_cart_order` feature representing the sequence in which they have been added to the cart in that order;\n",
    "\n",
    "* for <text style=\"color:#FEC999\">each user</text> we may have <u>n-1</u> prior orders and <u>1 train order OR n-1 prior orders</u> and 1 test order in which we have to state what products have been reordered."
   ]
  },
  {
   "cell_type": "code",
   "execution_count": null,
   "metadata": {
    "_cell_guid": "a82843b6-2dd2-455c-b165-b286d8661b95",
    "_execution_state": "idle",
    "_uuid": "7e282306416e570ff6ce8b0c201de136ad7546bc",
    "collapsed": true
   },
   "outputs": [],
   "source": [
    "order_prior = pd.merge(prior,orders,on=['order_id','order_id'])\n",
    "order_prior = order_prior.sort_values(by=['user_id','order_id'])\n",
    "order_prior.head()"
   ]
  },
  {
   "cell_type": "code",
   "execution_count": null,
   "metadata": {
    "_cell_guid": "d3a65a40-ca69-4623-ba1f-8fd32c288fd5",
    "_execution_state": "idle",
    "_uuid": "bcbd996c363efb3407e49af24702cc6be87bee83",
    "collapsed": true
   },
   "outputs": [],
   "source": [
    "# Load products dataset\n",
    "products = \n",
    "products.head()"
   ]
  },
  {
   "cell_type": "code",
   "execution_count": null,
   "metadata": {
    "_cell_guid": "f6c7f893-2156-415b-8af9-35b36359a26d",
    "_execution_state": "idle",
    "_uuid": "4883c10198663e9f00343902ada05038625e1b80",
    "collapsed": true
   },
   "outputs": [],
   "source": [
    "# Load the aisles dataset.\n",
    "aisles =\n",
    "aisles.head()"
   ]
  },
  {
   "cell_type": "code",
   "execution_count": null,
   "metadata": {
    "_cell_guid": "2c885a67-0947-4140-adcd-b8b4bb95bb56",
    "_execution_state": "idle",
    "_uuid": "28b26554945aad4c8422b4592a69057736c16952",
    "collapsed": true
   },
   "outputs": [],
   "source": [
    "print(aisles.shape)"
   ]
  },
  {
   "cell_type": "code",
   "execution_count": null,
   "metadata": {
    "_cell_guid": "e82ffc93-df20-434e-8d4f-296468c05f48",
    "_execution_state": "idle",
    "_uuid": "2fad3d338152d014e601a073f10eb53d3464bdee",
    "collapsed": true
   },
   "outputs": [],
   "source": [
    "_mt = pd.merge(prior,products, on = ['product_id','product_id'])\n",
    "_mt = pd.merge(_mt,orders,on=['order_id','order_id'])\n",
    "mt = pd.merge(_mt,aisles,on=['aisle_id','aisle_id'])\n",
    "mt.head(10)"
   ]
  },
  {
   "cell_type": "code",
   "execution_count": null,
   "metadata": {
    "_cell_guid": "7ff79fab-ca32-47b2-8234-08ae88413688",
    "_execution_state": "idle",
    "_uuid": "447d546ef6bfd2bd41cb55a658693eb8963f32ee",
    "collapsed": true
   },
   "outputs": [],
   "source": [
    "mt['product_name'].value_counts()[0:10]"
   ]
  },
  {
   "cell_type": "code",
   "execution_count": null,
   "metadata": {
    "_cell_guid": "e161a1ca-178f-4f04-a2d8-2c669db2ade3",
    "_execution_state": "idle",
    "_uuid": "8734d0f2b12fa019b11ca0d626a99476ee3e91a9",
    "collapsed": true
   },
   "outputs": [],
   "source": [
    "len(mt['product_name'].unique())"
   ]
  },
  {
   "cell_type": "code",
   "execution_count": null,
   "metadata": {
    "_cell_guid": "f5271d17-59ae-4d4f-af31-4b374315bc91",
    "_execution_state": "idle",
    "_uuid": "43cdea1c3fd1b4b93085887cd489fba4bb92a9c0",
    "collapsed": true
   },
   "outputs": [],
   "source": [
    "prior.shape"
   ]
  },
  {
   "cell_type": "markdown",
   "metadata": {
    "_cell_guid": "9ab7d1ff-3e41-4af1-b9a3-8b329a95608d",
    "_uuid": "984d21eaf82ce95aaf5a695654c1561beddae4b0"
   },
   "source": [
    "## Clustering Customers"
   ]
  },
  {
   "attachments": {},
   "cell_type": "markdown",
   "metadata": {
    "_cell_guid": "db5b895b-e405-4b81-a9e4-1d92a421ca38",
    "_uuid": "e5535781a21bb6e9d07a0184c22ffb889ea59304"
   },
   "source": [
    "We are dealing with  134 types of product (aisle)."
   ]
  },
  {
   "cell_type": "code",
   "execution_count": null,
   "metadata": {
    "_cell_guid": "c0ba7d89-3f7f-42c7-887d-84b6e71425bc",
    "_execution_state": "idle",
    "_uuid": "fb148a7e7977afff8351813f3dc724e9153be8b5",
    "collapsed": true
   },
   "outputs": [],
   "source": [
    "len(mt['aisle'].unique())"
   ]
  },
  {
   "cell_type": "markdown",
   "metadata": {
    "_cell_guid": "11d578a7-d82e-4d7e-9d39-4b43a8f8814a",
    "_uuid": "a758b7ddcce9aa741ec0ccd697b67a22c86cf7d6"
   },
   "source": [
    "Fresh fruits and fresh vegetables are the best selling goods."
   ]
  },
  {
   "cell_type": "code",
   "execution_count": null,
   "metadata": {
    "_cell_guid": "ed3c36ed-8097-46dc-8782-f06d54c5e040",
    "_execution_state": "idle",
    "_uuid": "45eb1d82d900122914dcf077c6af081e782f0046",
    "collapsed": true
   },
   "outputs": [],
   "source": [
    "# Find top selling goods\n"
   ]
  },
  {
   "attachments": {},
   "cell_type": "markdown",
   "metadata": {
    "_cell_guid": "61700713-cee0-437f-af1d-5e98c2603637",
    "_uuid": "6e55dc3d7855d492072e458a929e890e8ca4e83d"
   },
   "source": [
    "I want to find a possible clusters among the <text style=\"color:#FEC999\">different customers and substitute single user_id with the cluster</text> to which they are assumed to belong. Hope this would eventually increase the next prediction model performance.\n",
    "\n",
    "Ths first thing to do is creating a dataframe with all the purchases made by each user"
   ]
  },
  {
   "cell_type": "code",
   "execution_count": null,
   "metadata": {
    "_cell_guid": "3832e321-450f-4b8d-a49c-5a3452c9a62b",
    "_execution_state": "idle",
    "_uuid": "d75d95d43505cff1b58fa7c9e2f66416f6f4d465",
    "collapsed": true,
    "scrolled": true
   },
   "outputs": [],
   "source": [
    "cust_prod = pd.crosstab(mt['user_id'], mt['aisle'])\n",
    "cust_prod.head(10)"
   ]
  },
  {
   "cell_type": "code",
   "execution_count": null,
   "metadata": {
    "_cell_guid": "34fbf1d7-56cf-4c6c-b20a-c79b01793765",
    "_uuid": "42f057aa954a214a097a4d0bf09d62ae06775c5c",
    "collapsed": true
   },
   "outputs": [],
   "source": [
    "cust_prod.shape"
   ]
  },
  {
   "attachments": {},
   "cell_type": "markdown",
   "metadata": {
    "_cell_guid": "5c931139-ed8a-4bbb-a0ac-f82718810729",
    "_uuid": "ee299ef2107490e9529eec3c482d4200c798c557"
   },
   "source": [
    "We can then execute  a Principal Component Analysis to the obtained dataframe. This will reduce the number of features from the number of aisles to 6, the number of principal components I have chosen.\n",
    "\n",
    "[refer here for more details and example](https://scikit-learn.org/stable/modules/generated/sklearn.decomposition.PCA.html)"
   ]
  },
  {
   "cell_type": "code",
   "execution_count": null,
   "metadata": {
    "_cell_guid": "944ee4b7-2619-405d-9118-df799e4880c6",
    "_execution_state": "idle",
    "_uuid": "2b4de9f6e010a90bf623fa44a57bd40b4aaba6cc",
    "collapsed": true
   },
   "outputs": [],
   "source": [
    "from sklearn.decomposition import PCA\n",
    "# complete the following. reduce the number of aisles into 6.\n",
    "pca = PCA()\n",
    "pca.fit()\n",
    "pca_samples = "
   ]
  },
  {
   "cell_type": "code",
   "execution_count": null,
   "metadata": {
    "_cell_guid": "0c226926-6b31-49cc-a41e-d6dd50adff86",
    "_execution_state": "idle",
    "_uuid": "43ff7f875b651b57d2a76779c7e13c5a7c7932ac",
    "collapsed": true
   },
   "outputs": [],
   "source": [
    "ps = pd.DataFrame(pca_samples)\n",
    "ps.head()"
   ]
  },
  {
   "cell_type": "code",
   "execution_count": null,
   "metadata": {},
   "outputs": [],
   "source": [
    "from matplotlib import pyplot as plt\n",
    "from mpl_toolkits.mplot3d import Axes3D\n",
    "from mpl_toolkits.mplot3d import proj3d"
   ]
  },
  {
   "cell_type": "code",
   "execution_count": null,
   "metadata": {
    "_cell_guid": "063d8eae-13d0-4633-b8c2-a9912033d27d",
    "_execution_state": "idle",
    "_uuid": "1e157bb70951befafe1e3c41b1f9023c7b5205a9",
    "collapsed": true
   },
   "outputs": [],
   "source": [
    "# Here I am experimenting with different PC components.\n",
    "pc_val1, pc_val2 = 1, 4\n",
    "\n",
    "# Subset my PC components as input for Clustering.\n",
    "tocluster = pd.DataFrame(ps[[pc_val1, pc_val2]])\n",
    "print (tocluster.shape)\n",
    "print (tocluster.head())\n",
    "\n",
    "fig = plt.figure(figsize=(8,8))\n",
    "plt.plot(tocluster[pc_val1], tocluster[pc_val2], 'o', markersize=2, color='blue', alpha=0.5, label='class1')\n",
    "\n",
    "plt.xlabel('x_values')\n",
    "plt.ylabel('y_values')\n",
    "plt.legend()\n",
    "plt.show()"
   ]
  },
  {
   "attachments": {},
   "cell_type": "markdown",
   "metadata": {},
   "source": [
    "Use KMeans clustering on the <i>reduced dimensions dataset</i>. Example of Kmeans [here](https://scikit-learn.org/stable/modules/generated/sklearn.cluster.KMeans.html#sklearn.cluster.KMeans)"
   ]
  },
  {
   "cell_type": "code",
   "execution_count": null,
   "metadata": {
    "_cell_guid": "46916624-0f1e-45b4-9c58-3a749bc7e850",
    "_execution_state": "idle",
    "_uuid": "9ec8b63031a55ef7ca1980cc296e195ce1c8c81b",
    "collapsed": true
   },
   "outputs": [],
   "source": [
    "from sklearn.cluster import KMeans\n",
    "from sklearn.metrics import silhouette_score\n",
    "\n",
    "# Set n_cluster = 4, random state = 42\n",
    "clusterer = \n",
    "\n",
    "# Obtain geometric value for cluster centers.\n",
    "centers = \n",
    "\n",
    "# Predict the Cluster number.\n",
    "c_preds = \n",
    "print(centers)"
   ]
  },
  {
   "cell_type": "code",
   "execution_count": null,
   "metadata": {
    "_cell_guid": "b71cd8ad-3541-42a3-8791-80208c8d50d3",
    "_execution_state": "idle",
    "_uuid": "a30458b87dbca7645c89de21c2e3c69b061c3e3e",
    "collapsed": true
   },
   "outputs": [],
   "source": [
    "print (c_preds[0:100])"
   ]
  },
  {
   "attachments": {},
   "cell_type": "markdown",
   "metadata": {
    "_cell_guid": "1dd87800-ede5-46b9-b278-a68662e5e1b3",
    "_uuid": "4b9f5a1e2324b3b8649c970d959068dbe9feb937"
   },
   "source": [
    "Visualising the clusters after using KMeans"
   ]
  },
  {
   "cell_type": "code",
   "execution_count": null,
   "metadata": {
    "_cell_guid": "e3f8e5e9-ed1f-45eb-a26b-1a6d6e61630d",
    "_execution_state": "idle",
    "_uuid": "ce81e1923509f0ed42a2a59c1b35db0242d8624f",
    "collapsed": true,
    "scrolled": false
   },
   "outputs": [],
   "source": [
    "import matplotlib\n",
    "fig = plt.figure(figsize=(8,8))\n",
    "colors = ['#FCAA1B','#20419A','#763F98','#4CAF50']\n",
    "colored = [colors[k] for k in c_preds]\n",
    "print (colored[0:10])\n",
    "plt.scatter(tocluster[pc_val1],tocluster[pc_val2],  color = colored)\n",
    "for ci,c in enumerate(centers):\n",
    "    plt.plot(c[0], c[1], 'o', markersize=8, color='red', alpha=0.9, label=''+str(ci))\n",
    "\n",
    "plt.xlabel('x_values')\n",
    "plt.ylabel('y_values')\n",
    "plt.legend()\n",
    "plt.show()"
   ]
  },
  {
   "attachments": {},
   "cell_type": "markdown",
   "metadata": {},
   "source": [
    "<text style=\"color:#00a18D\">Pause: What happens when we try different Principal Components(features?)</text>\n",
    "\n",
    "***"
   ]
  },
  {
   "attachments": {},
   "cell_type": "markdown",
   "metadata": {
    "_cell_guid": "bbffbeac-8002-400b-a2ae-8030978895c9",
    "_uuid": "9280a6d2ec5ab4cac875035f98efb36ac121c86d"
   },
   "source": [
    "From the above, we have plotted several pair of components looking for the one suitable for a KMeans Clustering.  \n",
    "\n",
    "I have chosen the (PC4,PC1) pair. Since each component is the projection of all the points of the original dataset I think each component is representative of the dataset. \n",
    "\n",
    "We have found a possible clustering for our customers. Let's check if we also manage to find some interesting pattern beneath it."
   ]
  },
  {
   "cell_type": "code",
   "execution_count": null,
   "metadata": {
    "_cell_guid": "cfc8d6a5-9458-4bb7-ae1e-0af49ada625f",
    "_execution_state": "idle",
    "_uuid": "d13fb574653bc558362b8ad1d9ccfbe1fa2593a9",
    "collapsed": true
   },
   "outputs": [],
   "source": [
    "clust_prod = cust_prod.copy()\n",
    "clust_prod['cluster'] = c_preds\n",
    "\n",
    "clust_prod.head(10)"
   ]
  },
  {
   "cell_type": "code",
   "execution_count": null,
   "metadata": {
    "_cell_guid": "0c9fdddb-2d74-4da9-a025-42b903f770e8",
    "_execution_state": "idle",
    "_uuid": "dcc0afffea962eb6ecbad8e3a3c0a19f944f8773",
    "collapsed": true,
    "scrolled": false
   },
   "outputs": [],
   "source": [
    "print (clust_prod.shape)\n",
    "f,arr = plt.subplots(2,2,sharex=True,figsize=(15,15))\n",
    "\n",
    "c1_count = len(clust_prod[clust_prod['cluster']==0])\n",
    "\n",
    "c0 = clust_prod[clust_prod['cluster']==0].drop('cluster',axis=1).mean()\n",
    "arr[0,0].bar(range(len(clust_prod.drop('cluster',axis=1).columns)),c0)\n",
    "c1 = clust_prod[clust_prod['cluster']==1].drop('cluster',axis=1).mean()\n",
    "arr[0,1].bar(range(len(clust_prod.drop('cluster',axis=1).columns)),c1)\n",
    "c2 = clust_prod[clust_prod['cluster']==2].drop('cluster',axis=1).mean()\n",
    "arr[1,0].bar(range(len(clust_prod.drop('cluster',axis=1).columns)),c2)\n",
    "c3 = clust_prod[clust_prod['cluster']==3].drop('cluster',axis=1).mean()\n",
    "arr[1,1].bar(range(len(clust_prod.drop('cluster',axis=1).columns)),c3)\n",
    "plt.show()\n"
   ]
  },
  {
   "cell_type": "markdown",
   "metadata": {
    "_cell_guid": "2b01383b-c50a-4d7a-9b26-fc56096e50c8",
    "_uuid": "80eabe05a2e84746be60b59367ce60c702c3cb61"
   },
   "source": [
    "Let's check out what are the top 10 goods bought by people of each cluster. We are going to rely first on the absolute data and then on a percentage among the top 8 products for each cluster."
   ]
  },
  {
   "cell_type": "code",
   "execution_count": null,
   "metadata": {
    "_cell_guid": "fe829fd7-59b2-4356-ae8e-241f45626dda",
    "_execution_state": "idle",
    "_uuid": "2e71424ff03ef18ea9827401ba10e71705529981",
    "collapsed": true
   },
   "outputs": [],
   "source": [
    "c0.sort_values(ascending=False)[0:10]"
   ]
  },
  {
   "cell_type": "code",
   "execution_count": null,
   "metadata": {
    "_cell_guid": "534842f7-65ea-4f57-9b1d-0cd25248bb65",
    "_execution_state": "idle",
    "_uuid": "7f6c163e534f1fadad36eb4fc2e73fe97c017f50",
    "collapsed": true
   },
   "outputs": [],
   "source": [
    "c1.sort_values(ascending=False)[0:10].round(3)"
   ]
  },
  {
   "cell_type": "code",
   "execution_count": null,
   "metadata": {
    "_cell_guid": "0932bdc7-55be-43a3-b35c-f45bea00c829",
    "_execution_state": "idle",
    "_uuid": "348dbe14caa7e3a584b5ddc254642ca49199b61f",
    "collapsed": true
   },
   "outputs": [],
   "source": [
    "c2.sort_values(ascending=False)[0:10].round(3)"
   ]
  },
  {
   "cell_type": "code",
   "execution_count": null,
   "metadata": {
    "_cell_guid": "37d219c8-b92b-471e-ad9a-683bc05e22ed",
    "_execution_state": "idle",
    "_uuid": "4a3edf51f146a7262f0eeeef8db3f4edf3e227fc",
    "collapsed": true
   },
   "outputs": [],
   "source": [
    "c3.sort_values(ascending=False)[0:10].round(3)"
   ]
  },
  {
   "attachments": {},
   "cell_type": "markdown",
   "metadata": {
    "_cell_guid": "4850cf4d-a9de-4ceb-8806-79717b105261",
    "_uuid": "3577206029ef1e832f55a6720f6b31f612ed7e37"
   },
   "source": [
    "A first analysis of the clusters confirm the initial hypothesis that:\n",
    "\n",
    "* fresh fruits                     \n",
    "* fresh vegetables                 \n",
    "* packaged vegetables fruits       \n",
    "* yogurt                           \n",
    "* packaged cheese                   \n",
    "* milk                              \n",
    "* water seltzer sparkling water     \n",
    "* chips pretzels                    \n",
    "\n",
    "are products which are genereically bought by the majority of the customers.\n",
    "\n",
    "What we can inspect here is if clusters <text style=\"color:#b2f3f3\">differ in quantities and proportions</text>, with respect of these goods, or if a cluster is characterized by some goods not included in this list. For instance we can already see cluster 3 is characterized by 'Baby Food Formula' product which is a significant difference with respect to the other clusters."
   ]
  },
  {
   "cell_type": "code",
   "execution_count": null,
   "metadata": {
    "_cell_guid": "16a86bf0-44f9-423f-a0d5-191c40f22a23",
    "_execution_state": "idle",
    "_uuid": "737822117c2dd38280a64a9e1410228d7999a223",
    "collapsed": true
   },
   "outputs": [],
   "source": [
    "cluster_means = [[c0['fresh fruits'],c0['fresh vegetables'],c0['packaged vegetables fruits'], c0['yogurt'], c0['packaged cheese'], c0['milk'],c0['water seltzer sparkling water'],c0['chips pretzels']],\n",
    "                 [c1['fresh fruits'],c1['fresh vegetables'],c1['packaged vegetables fruits'], c1['yogurt'], c1['packaged cheese'], c1['milk'],c1['water seltzer sparkling water'],c1['chips pretzels']],\n",
    "                 [c2['fresh fruits'],c2['fresh vegetables'],c2['packaged vegetables fruits'], c2['yogurt'], c2['packaged cheese'], c2['milk'],c2['water seltzer sparkling water'],c2['chips pretzels']],\n",
    "                 [c3['fresh fruits'],c3['fresh vegetables'],c3['packaged vegetables fruits'], c3['yogurt'], c3['packaged cheese'], c3['milk'],c3['water seltzer sparkling water'],c3['chips pretzels']]]\n",
    "cluster_means = pd.DataFrame(cluster_means, columns = ['fresh fruits','fresh vegetables','packaged vegetables fruits','yogurt','packaged cheese','milk','water seltzer sparkling water','chips pretzels'])\n",
    "cluster_means.round(2)"
   ]
  },
  {
   "attachments": {},
   "cell_type": "markdown",
   "metadata": {
    "_cell_guid": "b049ff00-5910-4c65-8fcb-ae525954f74c",
    "_uuid": "f39e35ef82ebbdae029cb3deb7e38b4eb096f72f"
   },
   "source": [
    "The following table depicts the <text style=\"color:#f2b3b3\">percentage these goods with respect to the other top 8 in each cluster</text>. It is easy some interesting differences among the clusters. \n",
    "\n",
    "It seems people of <text style=\"color:#f2b3b3\">cluster 1 buy more fresh vegetables</text> than the other clusters. As shown by absolute data, Cluster 1 is also the cluster including those customers buying far more goods than any others.\n",
    "\n",
    "People of cluster 2 buy more yogurt than people of the other clusters.\n",
    "\n",
    "Absolute Data shows us People of <text style=\"color:#c9e7cb\">cluster 3 buy a Lot of 'Baby Food Formula'</text> which not even listed in the top 8 products but mainly characterize this cluster. Coherently (I think) with this observation they buy more milk than the others."
   ]
  },
  {
   "cell_type": "code",
   "execution_count": null,
   "metadata": {
    "_cell_guid": "56ddffcc-0053-46ce-9624-965236d83a3c",
    "_execution_state": "idle",
    "_uuid": "e44f6ae7735dabbbdac46091daee1c6fc2fcbc6a",
    "collapsed": true
   },
   "outputs": [],
   "source": [
    "cluster_perc = cluster_means.iloc[:, :].apply(lambda x: np.round((x / x.sum())*100, 3), axis=1)\n",
    "cluster_perc"
   ]
  },
  {
   "cell_type": "markdown",
   "metadata": {
    "_cell_guid": "efc90bd6-3a76-44d2-ac96-933d6503d0e4",
    "_uuid": "fa042f6ff86fdab35a3279f688a0bc3cc1a4aae1"
   },
   "source": [
    "I think another interesting information my come by lookig at the 10th to 15th most bought products for each cluster which will not include the generic products (i.e. vegetables, fruits, water, etc.) bought by anyone."
   ]
  },
  {
   "cell_type": "code",
   "execution_count": null,
   "metadata": {
    "_cell_guid": "a2323aa8-7297-4061-8cd4-10ca2ceaf6f0",
    "_execution_state": "idle",
    "_uuid": "5e378a270d857f1f141570ca40f977e1c2ffd3d2",
    "collapsed": true
   },
   "outputs": [],
   "source": [
    "c0.sort_values(ascending=False)[10:15].round(3)"
   ]
  },
  {
   "cell_type": "code",
   "execution_count": null,
   "metadata": {
    "_cell_guid": "b27733e1-29c6-4322-bd5d-9f38d6c1969b",
    "_execution_state": "idle",
    "_uuid": "7831588875c25e105f2fe8a6b895b10da753c867",
    "collapsed": true
   },
   "outputs": [],
   "source": [
    "c1.sort_values(ascending=False)[10:15]"
   ]
  },
  {
   "cell_type": "code",
   "execution_count": null,
   "metadata": {
    "_cell_guid": "a5786b6d-b809-4698-98fd-54ba23501f8e",
    "_execution_state": "idle",
    "_uuid": "55bf5e3e0f30af39708b35f8423ec7ab037751a6",
    "collapsed": true
   },
   "outputs": [],
   "source": [
    "c2.sort_values(ascending=False)[10:15]"
   ]
  },
  {
   "cell_type": "code",
   "execution_count": null,
   "metadata": {
    "_cell_guid": "a5448130-e915-4a5a-bf08-209bd8677123",
    "_execution_state": "idle",
    "_uuid": "9fa5ceed1a0889f7a3d977fed66112a0d9aad22d",
    "collapsed": true
   },
   "outputs": [],
   "source": [
    "c3.sort_values(ascending=False)[10:15]"
   ]
  },
  {
   "attachments": {},
   "cell_type": "markdown",
   "metadata": {
    "_cell_guid": "450f36fe-39ae-4822-9002-a4a5ba8695fd",
    "_uuid": "700b72d920b710f5b7ed1cf5f2702a05f25da020"
   },
   "source": [
    "As you can note by taking into account more products clusters start to differ significantly."
   ]
  },
  {
   "attachments": {},
   "cell_type": "markdown",
   "metadata": {
    "_cell_guid": "c27f15fc-b7bf-4bd2-97c9-8c65c2fab6ba",
    "_execution_state": "idle",
    "_uuid": "52cbadfffd30d6ceb6382733eddf39e8bb3be64f",
    "collapsed": true
   },
   "source": [
    "~ END"
   ]
  }
 ],
 "metadata": {
  "kernelspec": {
   "display_name": "venv",
   "language": "python",
   "name": "python3"
  },
  "language_info": {
   "codemirror_mode": {
    "name": "ipython",
    "version": 3
   },
   "file_extension": ".py",
   "mimetype": "text/x-python",
   "name": "python",
   "nbconvert_exporter": "python",
   "pygments_lexer": "ipython3",
   "version": "3.9.0 (tags/v3.9.0:9cf6752, Oct  5 2020, 15:34:40) [MSC v.1927 64 bit (AMD64)]"
  },
  "vscode": {
   "interpreter": {
    "hash": "34b6ff8fdf67aee58fe116336c3c4bcfde7a1d4e61896e945dd0afa6e11146f7"
   }
  }
 },
 "nbformat": 4,
 "nbformat_minor": 1
}
