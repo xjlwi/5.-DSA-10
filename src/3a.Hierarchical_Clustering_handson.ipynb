{
 "cells": [
  {
   "cell_type": "markdown",
   "metadata": {},
   "source": [
    "# Hands-On Exercise "
   ]
  },
  {
   "cell_type": "markdown",
   "metadata": {},
   "source": [
    ">**Datasets Background:**                         \n",
    "This data set contains `statistics, in arrests per 100,000 residents for assault, murder, and rape in each of the 50 US states in 1973.` Also given is the `percent of the population living in urban areas.` This is a systematic approach for identifying and analyzing patterns and trends in crime using `**USArrest dataset.**`"
   ]
  },
  {
   "cell_type": "markdown",
   "metadata": {},
   "source": [
    "# Import necessary libraries"
   ]
  },
  {
   "cell_type": "code",
   "execution_count": 2,
   "metadata": {},
   "outputs": [],
   "source": [
    "import pandas as pd\n",
    "import numpy as np\n",
    "import seaborn as sns # visualization\n",
    "import matplotlib.pyplot as plt # visualization\n",
    "import plotly.express as px #visualisation\n",
    "sns.set()\n",
    "%matplotlib inline\n",
    "from sklearn.preprocessing import StandardScaler # standardizing variables\n",
    "import scipy.cluster.hierarchy as sch # for hierarchical clustering\n",
    "from sklearn.cluster import AgglomerativeClustering # for hierarchical clustering"
   ]
  },
  {
   "cell_type": "markdown",
   "metadata": {},
   "source": [
    "# Load the dataset "
   ]
  },
  {
   "cell_type": "code",
   "execution_count": 3,
   "metadata": {},
   "outputs": [
    {
     "ename": "SyntaxError",
     "evalue": "invalid syntax (1929648652.py, line 3)",
     "output_type": "error",
     "traceback": [
      "\u001b[1;36m  Cell \u001b[1;32mIn[3], line 3\u001b[1;36m\u001b[0m\n\u001b[1;33m    crime =\u001b[0m\n\u001b[1;37m            ^\u001b[0m\n\u001b[1;31mSyntaxError\u001b[0m\u001b[1;31m:\u001b[0m invalid syntax\n"
     ]
    }
   ],
   "source": [
    "# load USArrest csv dataset.\n",
    "data_dir = r'D:/5. DSA/5. DSA 10/data/'\n",
    "crime = \n",
    "#peeking at the dataset\n",
    "crime.head(5)"
   ]
  },
  {
   "cell_type": "code",
   "execution_count": null,
   "metadata": {},
   "outputs": [],
   "source": [
    "# Let's see how many rows and columns we got!\n",
    "crime.shape # rows, columns"
   ]
  },
  {
   "cell_type": "code",
   "execution_count": null,
   "metadata": {},
   "outputs": [],
   "source": [
    "#Let's see some facts here\n",
    "crime.info()"
   ]
  },
  {
   "cell_type": "code",
   "execution_count": null,
   "metadata": {},
   "outputs": [],
   "source": [
    "# Let's get some statistics summary\n",
    "crime.describe()"
   ]
  },
  {
   "cell_type": "code",
   "execution_count": null,
   "metadata": {},
   "outputs": [],
   "source": [
    "# Check if got any missing cells/values\n",
    "crime.isnull().sum()"
   ]
  },
  {
   "cell_type": "code",
   "execution_count": null,
   "metadata": {},
   "outputs": [],
   "source": [
    "# Renaming the column as Unnmaed doesn't make sense.\n",
    "crime = crime.rename(columns={'Unnamed: 0':'State'})\n",
    "crime.head(5)"
   ]
  },
  {
   "cell_type": "markdown",
   "metadata": {},
   "source": [
    "# Let's conduct some EDA"
   ]
  },
  {
   "cell_type": "code",
   "execution_count": null,
   "metadata": {},
   "outputs": [],
   "source": [
    "# Plot the distribution of count of murders by state\n"
   ]
  },
  {
   "cell_type": "markdown",
   "metadata": {},
   "source": [
    "1. Highest Murder Rate: Georgia & Missisippi\n",
    "2. Lowest Murder Rate: North Dakota"
   ]
  },
  {
   "cell_type": "code",
   "execution_count": null,
   "metadata": {},
   "outputs": [],
   "source": [
    "plt.figure(figsize=(10,5))\n",
    "crime.groupby('State')['Assault'].max().plot(kind='bar')\n",
    "plt.xlabel(\"States\")\n",
    "plt.ylabel(\"Count of Assault\")\n",
    "plt.title(\"Distribution of Assault by States\");"
   ]
  },
  {
   "cell_type": "markdown",
   "metadata": {},
   "source": [
    "1. Highest Assault Rate: Florida & North Carolina\n",
    "2. Lowest Assault Rate: Hawaii"
   ]
  },
  {
   "cell_type": "code",
   "execution_count": null,
   "metadata": {},
   "outputs": [],
   "source": [
    "# plot the distribution of rape by states. Determine highest and lowest assault rate.\n"
   ]
  },
  {
   "cell_type": "markdown",
   "metadata": {},
   "source": [
    "1. Highest Assault Rate: Nevada\n",
    "2. Lowest Assault Rate: North Dakota"
   ]
  },
  {
   "cell_type": "code",
   "execution_count": null,
   "metadata": {},
   "outputs": [],
   "source": [
    "plt.figure(figsize=(10,5))\n",
    "crime.groupby('State')['UrbanPop'].max().plot(kind='bar')\n",
    "plt.xlabel(\"States\")\n",
    "plt.ylabel(\"UrbanPop %\")\n",
    "plt.title(\"Distribution of UrbanPop by States\");"
   ]
  },
  {
   "cell_type": "markdown",
   "metadata": {},
   "source": [
    "1. California high highest % of population resides in urban area.\n",
    "1. Vermont high lowest % of population resides in urban area."
   ]
  },
  {
   "cell_type": "code",
   "execution_count": null,
   "metadata": {},
   "outputs": [],
   "source": [
    "# plot murder rate vs urban pop - multivariate\n",
    "plt.figure(figsize=(10,5))\n",
    "plt.scatter('UrbanPop', 'Murder', data=crime)\n",
    "plt.xlabel('Percentage of Urban Population %')\n",
    "plt.ylabel('Murder Rate')\n",
    "plt.title(\"Urban Population Vs Murder Rate\");"
   ]
  },
  {
   "attachments": {},
   "cell_type": "markdown",
   "metadata": {},
   "source": [
    "? What do you observe between the 2 variables?"
   ]
  },
  {
   "cell_type": "code",
   "execution_count": null,
   "metadata": {},
   "outputs": [],
   "source": [
    "# plot assault rate vs urban pop\n"
   ]
  },
  {
   "attachments": {},
   "cell_type": "markdown",
   "metadata": {},
   "source": [
    "? What do you observe between the 2 variables?"
   ]
  },
  {
   "cell_type": "code",
   "execution_count": null,
   "metadata": {},
   "outputs": [],
   "source": [
    "# plot rape rate vs urban pop\n"
   ]
  },
  {
   "cell_type": "markdown",
   "metadata": {},
   "source": [
    "1. There is a relationship between % Urban Population and Rape Rate"
   ]
  },
  {
   "cell_type": "markdown",
   "metadata": {},
   "source": [
    "# Data Preprocessing"
   ]
  },
  {
   "cell_type": "code",
   "execution_count": null,
   "metadata": {
    "scrolled": true
   },
   "outputs": [],
   "source": [
    "# scale the columns because columns are in different scale, we need to scale the values to make sure the distance calculation is fair\n",
    "# iloc & loc: https://www.analyticsvidhya.com/blog/2020/02/loc-iloc-pandas/\n",
    "crime.iloc[:,1:]"
   ]
  },
  {
   "attachments": {},
   "cell_type": "markdown",
   "metadata": {},
   "source": [
    "When to use standard scaler, min max scaler, normalizer\n",
    "\n",
    "[good reference](https://towardsdatascience.com/scale-standardize-or-normalize-with-scikit-learn-6ccc7d176a02)"
   ]
  },
  {
   "cell_type": "code",
   "execution_count": null,
   "metadata": {
    "scrolled": true
   },
   "outputs": [],
   "source": [
    "scaler = # init standard scaler\n",
    "# scale the crime data \n",
    "scaled_data = \n",
    "scaled_data"
   ]
  },
  {
   "attachments": {},
   "cell_type": "markdown",
   "metadata": {
    "slideshow": {
     "slide_type": "slide"
    }
   },
   "source": [
    "# Hierarchical Linkage Methods\n",
    "\n",
    "For more info, refer [here](https://docs.scipy.org/doc/scipy/reference/generated/scipy.cluster.hierarchy.linkage.html)"
   ]
  },
  {
   "cell_type": "markdown",
   "metadata": {},
   "source": [
    "## Single Linkage\n",
    "The distance between 2 clusters is defined as the shortest distance between points in the two clusters"
   ]
  },
  {
   "cell_type": "code",
   "execution_count": null,
   "metadata": {},
   "outputs": [],
   "source": [
    "states = crime.iloc[:,0].tolist()"
   ]
  },
  {
   "cell_type": "code",
   "execution_count": null,
   "metadata": {},
   "outputs": [],
   "source": [
    "# Get the dendogram of the hierarchical cluster using SINGLE LINKAGE , visualise the distance between clusters, use the euclidean distance as metric.\n"
   ]
  },
  {
   "cell_type": "markdown",
   "metadata": {},
   "source": [
    "## Complete Linkage:\n",
    "The distance between 2 clusters is defined as the maximum distance between any 2 points in the clusters"
   ]
  },
  {
   "cell_type": "code",
   "execution_count": null,
   "metadata": {},
   "outputs": [],
   "source": [
    "# Perform hierarchical clustering using complete linkage.\n"
   ]
  },
  {
   "cell_type": "markdown",
   "metadata": {},
   "source": [
    "## Average Linkage\n",
    "The distance between 2 clusters is defined as the average distance between every point of one cluster to every other point of the other cluster."
   ]
  },
  {
   "cell_type": "code",
   "execution_count": null,
   "metadata": {},
   "outputs": [],
   "source": [
    "plt.figure(figsize=(20,5))\n",
    "plt.title(\"Crime Rate Dendograms\")\n",
    "Z = sch.linkage(scaled_data, method='average')\n",
    "dendogram = sch.dendrogram(Z, labels=states)\n",
    "plt.xlabel('Crime Rate')\n",
    "plt.ylabel('Euclidean distances');"
   ]
  },
  {
   "cell_type": "markdown",
   "metadata": {},
   "source": [
    "**Observation**: The single linkage type will produce dendrograms which are not structured properly, whereas complete or average linkage will produce clusters which have a proper tree-like structure."
   ]
  },
  {
   "cell_type": "markdown",
   "metadata": {},
   "source": [
    "## Ward Linkage"
   ]
  },
  {
   "cell_type": "code",
   "execution_count": null,
   "metadata": {},
   "outputs": [],
   "source": [
    "# Plot the same as above using ward linkage\n"
   ]
  },
  {
   "cell_type": "code",
   "execution_count": null,
   "metadata": {},
   "outputs": [],
   "source": [
    "dendrogram.keys()"
   ]
  },
  {
   "cell_type": "markdown",
   "metadata": {},
   "source": [
    "# Determine Number of Clusters"
   ]
  },
  {
   "cell_type": "markdown",
   "metadata": {},
   "source": [
    "We look for the largest distance that we can vertically cut without crossing any horizontal line. Let’s count the number of lines on the diagram and determine the optimal number of clusters. "
   ]
  },
  {
   "cell_type": "code",
   "execution_count": null,
   "metadata": {},
   "outputs": [],
   "source": [
    "# Cutting the dendrogram at max_d\n",
    "plt.figure(figsize=(20,8))\n",
    "Z = sch.linkage(scaled_data, method  = \"ward\")\n",
    "dendrogram = sch.dendrogram(Z, labels=states)\n",
    "plt.title('Dendrogram')\n",
    "plt.xlabel('Crime Rate')\n",
    "plt.ylabel('Euclidean distances')\n",
    "plt.axhline(y=7.5, c='k');"
   ]
  },
  {
   "attachments": {},
   "cell_type": "markdown",
   "metadata": {},
   "source": [
    "# Modelling\n",
    "\n",
    "[agglomerative clustering](https://scikit-learn.org/stable/modules/generated/sklearn.cluster.AgglomerativeClustering.html#sklearn.cluster.AgglomerativeClustering)"
   ]
  },
  {
   "cell_type": "code",
   "execution_count": null,
   "metadata": {},
   "outputs": [],
   "source": [
    "# Fit the Agglomerative Clustering Model. use ward linkage, n_clusters to find = 2.\n",
    " \n",
    "AC = AgglomerativeClustering()"
   ]
  },
  {
   "cell_type": "markdown",
   "metadata": {},
   "source": [
    "**Ward method** is actually a method that tries to minimize the variance within each cluster. In K-means when we were trying to minimize the wcss((within-cluster sums of squares) to plot our elbow method chart, here it’s almost the same the only difference is that instead of minimizing wcss we are minimizing the within-cluster variants. That is the variance within each cluster."
   ]
  },
  {
   "cell_type": "code",
   "execution_count": null,
   "metadata": {},
   "outputs": [],
   "source": [
    "# Fit and predict to have the cluster labels for each row\n",
    "y_prediction = AC.\n",
    "y_prediction"
   ]
  },
  {
   "cell_type": "code",
   "execution_count": null,
   "metadata": {},
   "outputs": [],
   "source": [
    "# Fetch the cluster labels\n",
    "crime['cluster labels']= "
   ]
  },
  {
   "cell_type": "code",
   "execution_count": null,
   "metadata": {
    "scrolled": true
   },
   "outputs": [],
   "source": [
    "# Let's see which State falls in which cluster\n",
    "crime[['State','cluster labels']]"
   ]
  },
  {
   "cell_type": "markdown",
   "metadata": {},
   "source": [
    "# Profiling of clusters"
   ]
  },
  {
   "cell_type": "code",
   "execution_count": null,
   "metadata": {
    "scrolled": true
   },
   "outputs": [],
   "source": [
    "# plot boxplot of murder against cluster label. What can you observe?"
   ]
  },
  {
   "cell_type": "code",
   "execution_count": null,
   "metadata": {},
   "outputs": [],
   "source": [
    "# plot boxplot of number of rape against cluster label predicted. What do you observe?\n"
   ]
  },
  {
   "cell_type": "code",
   "execution_count": null,
   "metadata": {},
   "outputs": [],
   "source": [
    "# plot assault against cluster label predicted. What do you observe?\n"
   ]
  },
  {
   "cell_type": "markdown",
   "metadata": {},
   "source": [
    "**Observations:**\n",
    "- The Cities in the Cluster-0 seems to be Safe-Zone where there are relativley less Murders, Assaults and Rapes.\n",
    "- The Cities in Cluster-1 seems to have higher crime rates and can be regarded as Danger-Zone."
   ]
  },
  {
   "cell_type": "code",
   "execution_count": null,
   "metadata": {},
   "outputs": [],
   "source": [
    "Safe_Zone= crime.groupby('cluster labels')['State'].unique()[0]\n",
    "Safe_Zone"
   ]
  },
  {
   "cell_type": "code",
   "execution_count": null,
   "metadata": {},
   "outputs": [],
   "source": [
    "Danger_Zone= crime.groupby('cluster labels')['State'].unique()[1]\n",
    "Danger_Zone"
   ]
  },
  {
   "cell_type": "code",
   "execution_count": null,
   "metadata": {},
   "outputs": [],
   "source": [
    "len(Safe_Zone), len(Danger_Zone)"
   ]
  },
  {
   "cell_type": "code",
   "execution_count": null,
   "metadata": {
    "scrolled": true
   },
   "outputs": [],
   "source": [
    "crime.iloc[:, 1:5]"
   ]
  },
  {
   "cell_type": "code",
   "execution_count": null,
   "metadata": {
    "scrolled": true
   },
   "outputs": [],
   "source": [
    "data = crime.iloc[:, 1:5].values\n",
    "data"
   ]
  },
  {
   "cell_type": "markdown",
   "metadata": {},
   "source": [
    "# Vizualization of Clusters of Data"
   ]
  },
  {
   "cell_type": "code",
   "execution_count": null,
   "metadata": {},
   "outputs": [],
   "source": [
    "# murder vs assault\n",
    "plt.figure(figsize=(10,5))\n",
    "plt.scatter(data[y_prediction==1, 0], data[y_prediction==1, 1], s=50, c='red', label ='Danger_Zone')\n",
    "plt.scatter(data[y_prediction==0, 0], data[y_prediction==0, 1], s=50, c='green', label ='Safe_Zone')\n",
    "plt.xlabel('Murder')\n",
    "plt.ylabel('Assault')\n",
    "plt.legend()\n",
    "plt.show()"
   ]
  },
  {
   "cell_type": "code",
   "execution_count": null,
   "metadata": {
    "scrolled": false
   },
   "outputs": [],
   "source": [
    "# murder vs assault with states\n",
    "plt.figure(figsize=(20,8))\n",
    "color = ['green', 'red']\n",
    "states = crime[crime['cluster labels'] == 0]['State'].tolist() + crime[crime['cluster labels'] == 1]['State'].tolist()\n",
    "x_coords = data[y_prediction==0, 0].tolist() + data[y_prediction==1, 0].tolist()\n",
    "y_coords = data[y_prediction==0, 1].tolist() +  data[y_prediction==1, 1].tolist()\n",
    "color_count = 0\n",
    "\n",
    "for i,state in enumerate(states):\n",
    "    x = x_coords[i]\n",
    "    y = y_coords[i]\n",
    "    plt.scatter(x, y, marker='x', color=color[color_count])\n",
    "    plt.text(x+0.3, y+0.3, state, fontsize=9)\n",
    "    if (i==30):\n",
    "        color_count+=1\n",
    "\n",
    "plt.xlabel('Murder')\n",
    "plt.ylabel('Assault')\n",
    "plt.show()"
   ]
  },
  {
   "cell_type": "code",
   "execution_count": null,
   "metadata": {},
   "outputs": [],
   "source": [
    "# murder vs rape\n",
    "plt.figure(figsize=(10,5))\n",
    "plt.scatter(data[y_prediction==1, 0], data[y_prediction==1, 3], s=50, c='red', label ='Danger_Zone')\n",
    "plt.scatter(data[y_prediction==0, 0], data[y_prediction==0, 3], s=50, c='green', label ='Safe_Zone')\n",
    "plt.xlabel('Murder')\n",
    "plt.ylabel('Rape')\n",
    "plt.legend()\n",
    "plt.show()"
   ]
  },
  {
   "cell_type": "code",
   "execution_count": null,
   "metadata": {},
   "outputs": [],
   "source": [
    "# murder vs rape with states\n",
    "plt.figure(figsize=(20,8))\n",
    "color = ['green', 'red']\n",
    "states = crime[crime['cluster labels'] == 0]['State'].tolist() + crime[crime['cluster labels'] == 1]['State'].tolist()\n",
    "x_coords = data[y_prediction==0, 0].tolist() + data[y_prediction==1, 0].tolist()\n",
    "y_coords = data[y_prediction==0, 3].tolist() +  data[y_prediction==1, 3].tolist()\n",
    "color_count = 0\n",
    "\n",
    "for i,state in enumerate(states):\n",
    "    x = x_coords[i]\n",
    "    y = y_coords[i]\n",
    "    plt.scatter(x, y, marker='x', color=color[color_count])\n",
    "    plt.text(x+0.3, y+0.3, state, fontsize=9)\n",
    "    if (i==30):\n",
    "        color_count+=1\n",
    "\n",
    "plt.xlabel('Murder')\n",
    "plt.ylabel('Rape')\n",
    "plt.show()"
   ]
  },
  {
   "cell_type": "markdown",
   "metadata": {},
   "source": [
    "**Observations**:\n",
    "There is slight overlap between clusters if we visualize by 2 variables"
   ]
  },
  {
   "cell_type": "markdown",
   "metadata": {},
   "source": [
    "# References\n",
    "1. https://www.kaggle.com/aishu2218/us-arrests-using-hierarchical-clustering-analysis/notebook\n",
    "2. https://www.analyticsvidhya.com/blog/2019/05/beginners-guide-hierarchical-clustering/\n",
    "3. https://jbhender.github.io/Stats506/F18/GP/Group15.html\n",
    "4. https://www.askpython.com/python/examples/hierarchical-clustering"
   ]
  }
 ],
 "metadata": {
  "kernelspec": {
   "display_name": "venv",
   "language": "python",
   "name": "python3"
  },
  "language_info": {
   "codemirror_mode": {
    "name": "ipython",
    "version": 3
   },
   "file_extension": ".py",
   "mimetype": "text/x-python",
   "name": "python",
   "nbconvert_exporter": "python",
   "pygments_lexer": "ipython3",
   "version": "3.9.0"
  },
  "toc": {
   "base_numbering": 1,
   "nav_menu": {},
   "number_sections": true,
   "sideBar": true,
   "skip_h1_title": false,
   "title_cell": "Table of Contents",
   "title_sidebar": "Contents",
   "toc_cell": false,
   "toc_position": {},
   "toc_section_display": true,
   "toc_window_display": true
  },
  "vscode": {
   "interpreter": {
    "hash": "34b6ff8fdf67aee58fe116336c3c4bcfde7a1d4e61896e945dd0afa6e11146f7"
   }
  },
  "widgets": {
   "application/vnd.jupyter.widget-state+json": {
    "state": {},
    "version_major": 2,
    "version_minor": 0
   }
  }
 },
 "nbformat": 4,
 "nbformat_minor": 4
}
